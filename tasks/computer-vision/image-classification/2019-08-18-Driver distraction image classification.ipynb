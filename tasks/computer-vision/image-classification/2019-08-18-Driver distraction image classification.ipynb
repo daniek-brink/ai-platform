{
 "cells": [
  {
   "cell_type": "markdown",
   "metadata": {
    "colab_type": "text",
    "id": "4oJdLUVMvw3e"
   },
   "source": [
    "# Description\n",
    "\n",
    "This notebook trains a model to predict one of 10 classes related to driver distraction detection, with data from [Kaggle](https://www.kaggle.com/jerrinv/driver-distraction/data). These classes are \n",
    "\n",
    "- c0: safe driving\n",
    "- c1: texting - right\n",
    "- c2: talking on the phone - right\n",
    "- c3: texting - left\n",
    "- c4: talking on the phone - left\n",
    "- c5: operating the radio\n",
    "- c6: drinking\n",
    "- c7: reaching behind\n",
    "- c8: hair and makeup\n",
    "- c9: talking to passenger.\n",
    "\n",
    "Since these classes relate to beverages, cell phones, radios, etc., object detection might prove valuable in this instance. Additionally,\n",
    "since the position of a driver behind the wheel is indicative of whether or not the person is paying attention to the road, human pose estimation techniques might be another viable option.\n",
    "\n",
    "Consequently, this notebook applies transfer learning from a state-of-the-art human pose detection solution [openpose](https://arxiv.org/abs/1812.08008), which is transfer learned from the famous VGG19 block, an object detection solution. Setting up this architecture was quite difficult, since the openpose has multiple branches that merge and then diverge again, and it also takes three inputs, of which two were discarded, since they relate specifically to human pose.\n",
    "\n",
    "The model trains for 15 epochs, although we probably could have let it train for about 8 epochs, since the loss and accuracy have changed very little since then.\n",
    "\n",
    "An investigation into the data revealed that the images are generally from more or less the same vantage point, have the same size, and that there are an equal number of examples for each class, which means that class imbalance is no problem. This data set has clearly been curated and cleaned, which is typically not the case in real life. As a result, we could get away without too much data augmentation or upsampling, and were able to achieve a 99.5% accuracy on the validation set, and a 99.3% accuracy on the test set.\n",
    "\n"
   ]
  },
  {
   "cell_type": "code",
   "execution_count": 16,
   "metadata": {
    "colab": {
     "base_uri": "https://localhost:8080/",
     "height": 34.0
    },
    "colab_type": "code",
    "collapsed": false,
    "id": "JqXxIhlbwQxb",
    "outputId": "24c38443-8686-4d4f-bf51-6045287cd5c2"
   },
   "outputs": [
    {
     "name": "stdout",
     "output_type": "stream",
     "text": [
      "Mounted at /content/gdrive\n"
     ]
    }
   ],
   "source": [
    "# Mount drive and clone the openpose project\n",
    "from google.colab import drive\n",
    "import os\n",
    "drive.mount('/content/gdrive', force_remount=True)\n",
    "!git clone https://github.com/cchamber/openpose_keras.git\n",
    "os.mkdir('openpose_keras/model/keras')\n",
    "!wget --directory-prefix openpose_keras/model/keras https://www.dropbox.com/s/llpxd14is7gyj0z/model.h5 "
   ]
  },
  {
   "cell_type": "code",
   "execution_count": 0,
   "metadata": {
    "colab": {},
    "colab_type": "code",
    "collapsed": true,
    "id": "XbwEoJZiob1P"
   },
   "outputs": [],
   "source": [
    "import pickle\n",
    "import numpy as np\n",
    "import tensorflow as tf\n",
    "from tensorflow.python.keras.models import Sequential, Model\n",
    "from tensorflow.python.keras.layers import Dense, Flatten, Reshape, Concatenate, Input\n",
    "from tensorflow.python.keras.callbacks import EarlyStopping, ModelCheckpoint\n",
    "from tensorflow.python.keras import optimizers\n",
    "from tensorflow.keras.preprocessing.image import ImageDataGenerator\n",
    "from tensorflow.keras.models import load_model\n",
    "import matplotlib.pyplot as plt\n",
    "import matplotlib.image as mpimg\n",
    "\n",
    "import matplotlib.pyplot as plt\n",
    "%matplotlib inline \n",
    "\n",
    "from openpose_keras.model import get_training_model, get_testing_model\n"
   ]
  },
  {
   "cell_type": "code",
   "execution_count": 0,
   "metadata": {
    "colab": {},
    "colab_type": "code",
    "collapsed": true,
    "id": "CULMlKXTvw3j"
   },
   "outputs": [],
   "source": [
    "# constants\n",
    "FILE_NAME = 'combine_vgg_and_openpose'\n",
    "ROOT_PATH = '/content/gdrive/My Drive/kaggle/distracted-driver/'\n",
    "TRAIN_DIR = \"imgs/train/\"\n",
    "TEST_DIR = \"imgs/test/\"\n",
    "VAL_DIR = \"imgs/validation\" "
   ]
  },
  {
   "cell_type": "code",
   "execution_count": 0,
   "metadata": {
    "colab": {},
    "colab_type": "code",
    "collapsed": true,
    "id": "vlBFeFdut7k1"
   },
   "outputs": [],
   "source": [
    "# constants\n",
    "NUM_CLASSES = 10\n",
    "\n",
    "CHANNELS = 3\n",
    "\n",
    "MODEL_FILE_NAME = FILE_NAME + '.hdf5'\n",
    "TRAINING_FIG_FILE_NAME = FILE_NAME + '.png'\n",
    "\n",
    "HEIGHT = 640\n",
    "WIDTH = 480\n",
    "RESNET50_POOLING_AVERAGE = 'avg'\n",
    "DENSE_LAYER_ACTIVATION = 'softmax'\n",
    "OBJECTIVE_FUNCTION = 'categorical_crossentropy'\n",
    "LOSS_METRICS = ['accuracy']\n",
    "\n",
    "NUM_EPOCHS = 15\n",
    "EARLY_STOP_PATIENCE = 3\n",
    "\n",
    "STEPS_PER_EPOCH_TRAINING = 400\n",
    "STEPS_PER_EPOCH_VALIDATION = 400\n",
    "BATCH_SIZE_TRAINING = 30\n",
    "BATCH_SIZE_VALIDATION = 30\n",
    "BATCH_SIZE_TESTING = 1"
   ]
  },
  {
   "cell_type": "markdown",
   "metadata": {
    "colab_type": "text",
    "id": "6IcNQ8yiGys-"
   },
   "source": [
    "# Load the openpose model"
   ]
  },
  {
   "cell_type": "code",
   "execution_count": 0,
   "metadata": {
    "colab": {
     "base_uri": "https://localhost:8080/",
     "height": 309.0
    },
    "colab_type": "code",
    "collapsed": false,
    "id": "FKdcPF-6T0zA",
    "outputId": "21b7f6b2-f01c-4ba9-b429-55cccc06ac7a"
   },
   "outputs": [
    {
     "name": "stderr",
     "output_type": "stream",
     "text": [
      "WARNING: Logging before flag parsing goes to stderr.\n",
      "W0822 16:12:19.326226 139730360149888 deprecation_wrapper.py:119] From /usr/local/lib/python3.6/dist-packages/keras/backend/tensorflow_backend.py:74: The name tf.get_default_graph is deprecated. Please use tf.compat.v1.get_default_graph instead.\n",
      "\n",
      "W0822 16:12:19.345903 139730360149888 deprecation_wrapper.py:119] From /usr/local/lib/python3.6/dist-packages/keras/backend/tensorflow_backend.py:517: The name tf.placeholder is deprecated. Please use tf.compat.v1.placeholder instead.\n",
      "\n",
      "W0822 16:12:19.351326 139730360149888 deprecation_wrapper.py:119] From /usr/local/lib/python3.6/dist-packages/keras/backend/tensorflow_backend.py:4115: The name tf.random_normal is deprecated. Please use tf.random.normal instead.\n",
      "\n",
      "W0822 16:12:19.390807 139730360149888 deprecation_wrapper.py:119] From /usr/local/lib/python3.6/dist-packages/keras/backend/tensorflow_backend.py:3976: The name tf.nn.max_pool is deprecated. Please use tf.nn.max_pool2d instead.\n",
      "\n",
      "W0822 16:12:21.794512 139730360149888 deprecation_wrapper.py:119] From /usr/local/lib/python3.6/dist-packages/keras/backend/tensorflow_backend.py:174: The name tf.get_default_session is deprecated. Please use tf.compat.v1.get_default_session instead.\n",
      "\n",
      "W0822 16:12:21.796229 139730360149888 deprecation_wrapper.py:119] From /usr/local/lib/python3.6/dist-packages/keras/backend/tensorflow_backend.py:181: The name tf.ConfigProto is deprecated. Please use tf.compat.v1.ConfigProto instead.\n",
      "\n",
      "W0822 16:12:23.659374 139730360149888 deprecation.py:506] From /usr/local/lib/python3.6/dist-packages/tensorflow/python/keras/initializers.py:143: calling RandomNormal.__init__ (from tensorflow.python.ops.init_ops) with dtype is deprecated and will be removed in a future version.\n",
      "Instructions for updating:\n",
      "Call initializer instance with the dtype argument instead of passing it to the constructor\n"
     ]
    }
   ],
   "source": [
    "# Load the openpose model (trained in keras, but we are using tensorflow.keras, hence the duplication)\n",
    "weight_decay = 5e-4\n",
    "pre_trained_model = get_training_model(weight_decay, 38, 19, stages=6)\n",
    "pre_trained_model.load_weights('openpose_keras/model/keras/model.h5')\n",
    "config = pre_trained_model.get_config()\n",
    "weights = pre_trained_model.get_weights()\n",
    "new_model = Model.from_config(config)\n",
    "new_model.set_weights(weights)"
   ]
  },
  {
   "cell_type": "markdown",
   "metadata": {
    "colab_type": "text",
    "id": "bODduFlZGsm6"
   },
   "source": [
    "# Set up the data "
   ]
  },
  {
   "cell_type": "code",
   "execution_count": 0,
   "metadata": {
    "colab": {
     "base_uri": "https://localhost:8080/",
     "height": 68.0
    },
    "colab_type": "code",
    "collapsed": false,
    "id": "_2PjpA9J88Jq",
    "outputId": "da46a5a4-9d9b-405c-8a5e-119803fa5a1f"
   },
   "outputs": [
    {
     "name": "stdout",
     "output_type": "stream",
     "text": [
      "Found 20617 images belonging to 10 classes.\n",
      "Found 2187 images belonging to 10 classes.\n",
      "Found 2187 images belonging to 10 classes.\n"
     ]
    }
   ],
   "source": [
    "\n",
    "data_generator = ImageDataGenerator()\n",
    "\n",
    "# flow_From_directory generates batches of augmented data (where augmentation can be color conversion, etc)\n",
    "# Both train & valid folders must have NUM_CLASSES sub-folders\n",
    "train_generator = data_generator.flow_from_directory(\n",
    "        ROOT_PATH + TRAIN_DIR,\n",
    "#         save_to_dir=ROOT_PATH + 'inputs',\n",
    "#         target_size=(WIDTH, HEIGHT),\n",
    "        batch_size=BATCH_SIZE_TRAINING,\n",
    "        shuffle=True,\n",
    "        class_mode='categorical')\n",
    "\n",
    "validation_generator = data_generator.flow_from_directory(\n",
    "        ROOT_PATH + VAL_DIR,\n",
    "#         target_size=(WIDTH, HEIGHT),\n",
    "        batch_size=BATCH_SIZE_VALIDATION,\n",
    "        class_mode='categorical') \n",
    "\n",
    "test_generator = data_generator.flow_from_directory(\n",
    "        ROOT_PATH + TEST_DIR,\n",
    "        batch_size=BATCH_SIZE_TESTING,\n",
    "        class_mode='categorical'\n",
    ")"
   ]
  },
  {
   "cell_type": "markdown",
   "metadata": {
    "colab_type": "text",
    "id": "XHpmclenHwHH"
   },
   "source": [
    "# Build the model"
   ]
  },
  {
   "cell_type": "code",
   "execution_count": 0,
   "metadata": {
    "colab": {
     "base_uri": "https://localhost:8080/",
     "height": 88.0
    },
    "colab_type": "code",
    "collapsed": false,
    "id": "3vXkV-mJvw6U",
    "outputId": "d94ff97e-9569-4864-b08f-6c7f900cb6f2"
   },
   "outputs": [
    {
     "name": "stderr",
     "output_type": "stream",
     "text": [
      "W0822 16:12:39.318013 139730360149888 deprecation.py:506] From /usr/local/lib/python3.6/dist-packages/tensorflow/python/ops/init_ops.py:1251: calling VarianceScaling.__init__ (from tensorflow.python.ops.init_ops) with dtype is deprecated and will be removed in a future version.\n",
      "Instructions for updating:\n",
      "Call initializer instance with the dtype argument instead of passing it to the constructor\n"
     ]
    }
   ],
   "source": [
    "x = Dense(NUM_CLASSES, activation='softmax', name='first_dense_layer')(pre_trained_model.get_layer('concatenate_5').output)\n",
    "x = Reshape((NUM_CLASSES*32*32,))(x)\n",
    "model = Model(new_model.input[0], x)\n",
    "model.build(input_shape=(WIDTH, HEIGHT, 3))\n",
    "\n",
    "# Set all the layers except the two dense ones to not-trainable.\n",
    "for i in range (0, len(model.layers)):\n",
    "    if model.layers[i].name not in ['first_dense_layer', 'final_dense_layer']:\n",
    "        model.layers[i].trainable = False"
   ]
  },
  {
   "cell_type": "code",
   "execution_count": 0,
   "metadata": {
    "colab": {},
    "colab_type": "code",
    "collapsed": true,
    "id": "9Az4GjylAtR3"
   },
   "outputs": [],
   "source": [
    "# Create the callbacks\n",
    "cb_early_stopper = EarlyStopping(monitor = 'val_loss', patience = EARLY_STOP_PATIENCE)\n",
    "cb_checkpointer = ModelCheckpoint(filepath = ROOT_PATH + 'models/' + MODEL_FILE_NAME, monitor = 'val_loss', save_best_only = True, mode = 'auto')"
   ]
  },
  {
   "cell_type": "code",
   "execution_count": 12,
   "metadata": {
    "colab": {
     "base_uri": "https://localhost:8080/",
     "height": 803.0
    },
    "colab_type": "code",
    "collapsed": false,
    "id": "-s6OAGURvw8W",
    "outputId": "c8c0d841-55e5-4b50-8fdf-86b01ce6f1bc"
   },
   "outputs": [
    {
     "name": "stdout",
     "output_type": "stream",
     "text": [
      "Epoch 1/15\n",
      "400/400 [==============================] - 3472s 9s/step - loss: 11.4640 - acc: 0.8369 - val_loss: 11.0445 - val_acc: 0.9677\n",
      "Epoch 2/15\n",
      "400/400 [==============================] - 2290s 6s/step - loss: 10.9995 - acc: 0.9807 - val_loss: 10.9718 - val_acc: 0.9883\n",
      "Epoch 3/15\n",
      "400/400 [==============================] - 744s 2s/step - loss: 10.9468 - acc: 0.9971 - val_loss: 10.9717 - val_acc: 0.9878\n",
      "Epoch 4/15\n",
      "400/400 [==============================] - 744s 2s/step - loss: 10.9389 - acc: 0.9989 - val_loss: 10.9522 - val_acc: 0.9950\n",
      "Epoch 5/15\n",
      "400/400 [==============================] - 744s 2s/step - loss: 10.9348 - acc: 1.0000 - val_loss: 10.9522 - val_acc: 0.9955\n",
      "Epoch 6/15\n",
      "400/400 [==============================] - 745s 2s/step - loss: 10.9343 - acc: 1.0000 - val_loss: 10.9513 - val_acc: 0.9962\n",
      "Epoch 7/15\n",
      "400/400 [==============================] - 743s 2s/step - loss: 10.9340 - acc: 1.0000 - val_loss: 10.9520 - val_acc: 0.9952\n",
      "Epoch 8/15\n",
      "400/400 [==============================] - 742s 2s/step - loss: 10.9339 - acc: 1.0000 - val_loss: 10.9515 - val_acc: 0.9953\n",
      "Epoch 9/15\n",
      "400/400 [==============================] - 746s 2s/step - loss: 10.9338 - acc: 1.0000 - val_loss: 10.9507 - val_acc: 0.9954\n",
      "Epoch 10/15\n",
      "400/400 [==============================] - 746s 2s/step - loss: 10.9338 - acc: 1.0000 - val_loss: 10.9505 - val_acc: 0.9955\n",
      "Epoch 11/15\n",
      "400/400 [==============================] - 743s 2s/step - loss: 10.9337 - acc: 1.0000 - val_loss: 10.9507 - val_acc: 0.9953\n",
      "Epoch 12/15\n",
      "400/400 [==============================] - 744s 2s/step - loss: 10.9337 - acc: 1.0000 - val_loss: 10.9504 - val_acc: 0.9954\n",
      "Epoch 13/15\n",
      "400/400 [==============================] - 742s 2s/step - loss: 10.9337 - acc: 1.0000 - val_loss: 10.9507 - val_acc: 0.9952\n",
      "Epoch 14/15\n",
      "400/400 [==============================] - 741s 2s/step - loss: 10.9336 - acc: 1.0000 - val_loss: 10.9506 - val_acc: 0.9953\n",
      "Epoch 15/15\n",
      "400/400 [==============================] - 741s 2s/step - loss: 10.9336 - acc: 1.0000 - val_loss: 10.9505 - val_acc: 0.9953\n"
     ]
    },
    {
     "data": {
      "image/png": "[encoded data removed]",
      "text/plain": [
       "<Figure size 1080x576 with 2 Axes>"
      ]
     },
     "metadata": {
      "tags": []
     },
     "output_type": "display_data"
    },
    {
     "data": {
      "text/plain": [
       "<Figure size 432x288 with 0 Axes>"
      ]
     },
     "metadata": {
      "tags": []
     },
     "output_type": "display_data"
    }
   ],
   "source": [
    "sgd = optimizers.SGD(lr = 0.01, decay = 1e-6, momentum = 0.9, nesterov = True)\n",
    "model.compile(optimizer = sgd, loss = OBJECTIVE_FUNCTION, metrics = LOSS_METRICS)\n",
    "fit_history = model.fit_generator(\n",
    "        train_generator,\n",
    "        steps_per_epoch=STEPS_PER_EPOCH_TRAINING,\n",
    "        epochs = NUM_EPOCHS,\n",
    "         validation_data=validation_generator,\n",
    "         validation_steps=STEPS_PER_EPOCH_VALIDATION,\n",
    "         callbacks=[cb_checkpointer]\n",
    ")\n",
    "\n",
    "model.save(ROOT_PATH + 'my_model.h5')  # creates a HDF5 file 'my_model.h5'\n",
    "\n",
    "with open(ROOT_PATH + '/train_history/' + FILE_NAME, 'wb') as file_pi:\n",
    "        pickle.dump(fit_history.history, file_pi)\n",
    "    \n",
    "plt.figure(1, figsize = (15,8)) \n",
    "    \n",
    "plt.subplot(221)  \n",
    "plt.plot(fit_history.history['acc'])  \n",
    "plt.plot(fit_history.history['val_acc'])  \n",
    "plt.title('model accuracy')  \n",
    "plt.ylabel('accuracy')  \n",
    "plt.xlabel('epoch')  \n",
    "plt.legend(['train', 'valid']) \n",
    "    \n",
    "plt.subplot(222)  \n",
    "plt.plot(fit_history.history['loss'])  \n",
    "plt.plot(fit_history.history['val_loss'])  \n",
    "plt.title('model loss')  \n",
    "plt.ylabel('loss')  \n",
    "plt.xlabel('epoch')  \n",
    "plt.legend(['train', 'valid']) \n",
    "\n",
    "plt.show()\n",
    "plt.savefig(ROOT_PATH + TRAINING_FIG_FILE_NAME)"
   ]
  },
  {
   "cell_type": "code",
   "execution_count": 15,
   "metadata": {
    "colab": {
     "base_uri": "https://localhost:8080/",
     "height": 34.0
    },
    "colab_type": "code",
    "collapsed": false,
    "id": "aqcvz1VhOOQQ",
    "outputId": "42c9466a-fdea-4b25-b410-14e0b96e67f5"
   },
   "outputs": [
    {
     "data": {
      "text/plain": [
       "[10.962212211092586, 0.9935985]"
      ]
     },
     "execution_count": 15,
     "metadata": {
      "tags": []
     },
     "output_type": "execute_result"
    }
   ],
   "source": [
    "model.evaluate_generator(test_generator)\n"
   ]
  }
 ],
 "metadata": {
  "accelerator": "GPU",
  "anaconda-cloud": {},
  "colab": {
   "collapsed_sections": [],
   "machine_shape": "hm",
   "name": "Third_transfer_learned_model-clean.ipynb",
   "provenance": [],
   "version": "0.3.2"
  },
  "kernelspec": {
   "display_name": "Python [conda env:testenv]",
   "language": "python",
   "name": "conda-env-testenv-py"
  },
  "language_info": {
   "codemirror_mode": {
    "name": "ipython",
    "version": 3
   },
   "file_extension": ".py",
   "mimetype": "text/x-python",
   "name": "python",
   "nbconvert_exporter": "python",
   "pygments_lexer": "ipython3",
   "version": "3.6.2"
  }
 },
 "nbformat": 4,
 "nbformat_minor": 0
}
